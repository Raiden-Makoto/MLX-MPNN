{
 "cells": [
  {
   "cell_type": "markdown",
   "id": "f557cdbf",
   "metadata": {},
   "source": [
    "# Message-Passing Neural Net for Blood-Brain Barrier Permeability Prediction"
   ]
  },
  {
   "cell_type": "code",
   "execution_count": 1,
   "id": "44c479a6",
   "metadata": {},
   "outputs": [],
   "source": [
    "import torch\n",
    "device = torch.device(\"mps\" if torch.backends.mps.is_available() else \"cpu\")"
   ]
  },
  {
   "cell_type": "code",
   "execution_count": null,
   "id": "298678a3",
   "metadata": {},
   "outputs": [],
   "source": [
    "from rdkit import Chem\n",
    "from rdkit.Chem import AllChem"
   ]
  },
  {
   "cell_type": "code",
   "execution_count": 3,
   "id": "7af3f6e3",
   "metadata": {},
   "outputs": [],
   "source": [
    "import pandas as pd\n",
    "from torch_geometric.data import Data, InMemoryDataset\n",
    "from torch_geometric.loader import DataLoader\n",
    "from sklearn.model_selection import train_test_split\n",
    "from sklearn.metrics import roc_auc_score"
   ]
  },
  {
   "cell_type": "markdown",
   "id": "b633bcef",
   "metadata": {},
   "source": [
    "## BBBP Dataset"
   ]
  },
  {
   "cell_type": "code",
   "execution_count": 10,
   "id": "7cf0f8ab",
   "metadata": {},
   "outputs": [
    {
     "name": "stdout",
     "output_type": "stream",
     "text": [
      "BBBP.csv already exists, skipping download.\n"
     ]
    }
   ],
   "source": [
    "import wget\n",
    "import os\n",
    "\n",
    "url = \"https://deepchemdata.s3-us-west-1.amazonaws.com/datasets/BBBP.csv\"\n",
    "if not os.path.exists(\"BBBP.csv\"):\n",
    "    print(\"Downloading BBBP.csv...\")\n",
    "    wget.download(url, \"BBBP.csv\")\n",
    "    print(\"\\nDownload complete!\")\n",
    "else:\n",
    "    print(\"BBBP.csv already exists, skipping download.\")"
   ]
  },
  {
   "cell_type": "code",
   "execution_count": 5,
   "id": "d5694849",
   "metadata": {},
   "outputs": [
    {
     "data": {
      "text/html": [
       "<div>\n",
       "<style scoped>\n",
       "    .dataframe tbody tr th:only-of-type {\n",
       "        vertical-align: middle;\n",
       "    }\n",
       "\n",
       "    .dataframe tbody tr th {\n",
       "        vertical-align: top;\n",
       "    }\n",
       "\n",
       "    .dataframe thead th {\n",
       "        text-align: right;\n",
       "    }\n",
       "</style>\n",
       "<table border=\"1\" class=\"dataframe\">\n",
       "  <thead>\n",
       "    <tr style=\"text-align: right;\">\n",
       "      <th></th>\n",
       "      <th>num</th>\n",
       "      <th>name</th>\n",
       "      <th>p_np</th>\n",
       "      <th>smiles</th>\n",
       "    </tr>\n",
       "  </thead>\n",
       "  <tbody>\n",
       "    <tr>\n",
       "      <th>0</th>\n",
       "      <td>1</td>\n",
       "      <td>Propanolol</td>\n",
       "      <td>1</td>\n",
       "      <td>[Cl].CC(C)NCC(O)COc1cccc2ccccc12</td>\n",
       "    </tr>\n",
       "    <tr>\n",
       "      <th>1</th>\n",
       "      <td>2</td>\n",
       "      <td>Terbutylchlorambucil</td>\n",
       "      <td>1</td>\n",
       "      <td>C(=O)(OC(C)(C)C)CCCc1ccc(cc1)N(CCCl)CCCl</td>\n",
       "    </tr>\n",
       "    <tr>\n",
       "      <th>2</th>\n",
       "      <td>3</td>\n",
       "      <td>40730</td>\n",
       "      <td>1</td>\n",
       "      <td>c12c3c(N4CCN(C)CC4)c(F)cc1c(c(C(O)=O)cn2C(C)CO...</td>\n",
       "    </tr>\n",
       "    <tr>\n",
       "      <th>3</th>\n",
       "      <td>4</td>\n",
       "      <td>24</td>\n",
       "      <td>1</td>\n",
       "      <td>C1CCN(CC1)Cc1cccc(c1)OCCCNC(=O)C</td>\n",
       "    </tr>\n",
       "    <tr>\n",
       "      <th>4</th>\n",
       "      <td>5</td>\n",
       "      <td>cloxacillin</td>\n",
       "      <td>1</td>\n",
       "      <td>Cc1onc(c2ccccc2Cl)c1C(=O)N[C@H]3[C@H]4SC(C)(C)...</td>\n",
       "    </tr>\n",
       "  </tbody>\n",
       "</table>\n",
       "</div>"
      ],
      "text/plain": [
       "   num                  name  p_np  \\\n",
       "0    1            Propanolol     1   \n",
       "1    2  Terbutylchlorambucil     1   \n",
       "2    3                 40730     1   \n",
       "3    4                    24     1   \n",
       "4    5           cloxacillin     1   \n",
       "\n",
       "                                              smiles  \n",
       "0                   [Cl].CC(C)NCC(O)COc1cccc2ccccc12  \n",
       "1           C(=O)(OC(C)(C)C)CCCc1ccc(cc1)N(CCCl)CCCl  \n",
       "2  c12c3c(N4CCN(C)CC4)c(F)cc1c(c(C(O)=O)cn2C(C)CO...  \n",
       "3                   C1CCN(CC1)Cc1cccc(c1)OCCCNC(=O)C  \n",
       "4  Cc1onc(c2ccccc2Cl)c1C(=O)N[C@H]3[C@H]4SC(C)(C)...  "
      ]
     },
     "execution_count": 5,
     "metadata": {},
     "output_type": "execute_result"
    }
   ],
   "source": [
    "df = pd.read_csv(\"BBBP.csv\")\n",
    "df.head()"
   ]
  },
  {
   "cell_type": "code",
   "execution_count": 6,
   "id": "de6c0ff7",
   "metadata": {},
   "outputs": [],
   "source": [
    "class BBBPDataset(InMemoryDataset):\n",
    "    def __init__(self, csv_path, transform=None):\n",
    "        super().__init__(root=None, transform=transform, pre_transform=None)\n",
    "        df = pd.read_csv(csv_path, usecols=[\"smiles\", \"p_np\"])\n",
    "        data_list = []\n",
    "        skipped = 0\n",
    "        for idx, row in df.iterrows():\n",
    "            try:\n",
    "                mol = Chem.MolFromSmiles(row[\"smiles\"])\n",
    "                if mol is None:\n",
    "                    skipped += 1\n",
    "                    continue\n",
    "                mol = Chem.AddHs(mol)\n",
    "                result = AllChem.EmbedMolecule(mol, randomSeed=67)\n",
    "                if result == -1:  # Embedding failed\n",
    "                    skipped += 1\n",
    "                    continue\n",
    "                atom_features = []\n",
    "                for atom in mol.GetAtoms():\n",
    "                    element = atom.GetSymbol()\n",
    "                    degree = atom.GetDegree()\n",
    "                    valence = atom.GetTotalValence()\n",
    "                    numH = atom.GetTotalNumHs()\n",
    "                    feat = [\n",
    "                        float(element == symbol) for symbol in [\"C\",\"N\",\"O\",\"F\",\"P\",\"S\",\"Cl\",\"Br\",\"I\"]\n",
    "                    ] + [degree, valence, numH]\n",
    "                    atom_features.append(feat)\n",
    "                x = torch.tensor(atom_features, dtype=torch.float)\n",
    "                edge_index, edge_attr = [], []\n",
    "                for bond in mol.GetBonds():\n",
    "                    i, j = bond.GetBeginAtomIdx(), bond.GetEndAtomIdx()\n",
    "                    bt = bond.GetBondType()\n",
    "                    attr = [\n",
    "                        float(bt == Chem.rdchem.BondType.SINGLE),\n",
    "                        float(bt == Chem.rdchem.BondType.DOUBLE),\n",
    "                        float(bt == Chem.rdchem.BondType.TRIPLE),\n",
    "                        float(bond.GetIsConjugated())\n",
    "                    ]\n",
    "                    edge_index += [[i,j],[j,i]]\n",
    "                    edge_attr += [attr, attr]\n",
    "                edge_index = torch.tensor(edge_index, dtype=torch.long).t().contiguous()\n",
    "                edge_attr  = torch.tensor(edge_attr,  dtype=torch.float)\n",
    "                y = torch.tensor(row[\"p_np\"], dtype=torch.float)\n",
    "                data_list.append(Data(x=x, edge_index=edge_index, edge_attr=edge_attr, y=y))\n",
    "            except Exception as e:\n",
    "                skipped += 1\n",
    "                continue\n",
    "        print(f\"Successfully processed {len(data_list)} molecules, skipped {skipped}\")\n",
    "        self.data, self.slices = self.collate(data_list)\n",
    "    \n",
    "    def len(self):\n",
    "        return len(self.data.y)\n",
    "    \n",
    "    def get(self, idx):\n",
    "        data = Data(\n",
    "            x=self.data.x[self.slices['x'][idx]:self.slices['x'][idx+1]],\n",
    "            edge_index=self.data.edge_index[:, self.slices['edge_index'][idx]:self.slices['edge_index'][idx+1]],\n",
    "            edge_attr=self.data.edge_attr[self.slices['edge_attr'][idx]:self.slices['edge_attr'][idx+1]],\n",
    "            y=self.data.y[idx]\n",
    "        )\n",
    "        if self.transform is not None:\n",
    "            data = self.transform(data)\n",
    "        return data"
   ]
  },
  {
   "cell_type": "markdown",
   "id": "3b729c56",
   "metadata": {},
   "source": [
    "## EdgeNetwork and MPNN"
   ]
  },
  {
   "cell_type": "code",
   "execution_count": 7,
   "id": "deed636d",
   "metadata": {},
   "outputs": [],
   "source": [
    "import torch.nn as nn\n",
    "from torch_geometric.nn import MessagePassing, global_mean_pool"
   ]
  },
  {
   "cell_type": "code",
   "execution_count": 24,
   "id": "9c846197",
   "metadata": {},
   "outputs": [],
   "source": [
    "class EdgeNetwork(MessagePassing):\n",
    "    def __init__(self, edge_dim, message_dim):\n",
    "        super().__init__(aggr='add')\n",
    "        self.message_dim = message_dim\n",
    "        # Output a message_dim x message_dim weight matrix per edge\n",
    "        self.lin = nn.Linear(edge_dim, message_dim * message_dim)\n",
    "\n",
    "    def forward(self, x, edge_index, edge_attr):\n",
    "        weight = self.lin(edge_attr)                              # [E, 32*32]\n",
    "        weight = weight.view(-1, self.message_dim, self.message_dim)  # [E, 32, 32]\n",
    "        return self.propagate(edge_index, x=x, weight=weight)\n",
    "\n",
    "    def message(self, x_j, weight):\n",
    "        # x_j shape: [E, 32]\n",
    "        return (weight @ x_j.unsqueeze(-1)).squeeze(-1)"
   ]
  },
  {
   "cell_type": "code",
   "execution_count": 25,
   "id": "a85c13fc",
   "metadata": {},
   "outputs": [],
   "source": [
    "class MPNN(nn.Module):\n",
    "    def __init__(self, node_dim=12, edge_dim=4, message_dim=32):\n",
    "        super().__init__()\n",
    "        self.message_dim = message_dim\n",
    "        self.node_lin = nn.Linear(node_dim, message_dim)  # input projection\n",
    "        self.edge_net = EdgeNetwork(edge_dim, message_dim)\n",
    "        self.gru = nn.GRUCell(message_dim, message_dim)\n",
    "        self.readout = nn.Sequential(\n",
    "            nn.Linear(message_dim, 512),\n",
    "            nn.ReLU(),\n",
    "            nn.Linear(512, 1)\n",
    "        )\n",
    "\n",
    "    def forward(self, data):\n",
    "        x, edge_index, edge_attr, batch = data.x, data.edge_index, data.edge_attr, data.batch\n",
    "        h = self.node_lin(x)  # project input features from 12 → 32\n",
    "        for _ in range(4):    # number of message passing steps\n",
    "            m = self.edge_net(h, edge_index, edge_attr)\n",
    "            h = self.gru(m, h)\n",
    "        hg = global_mean_pool(h, batch)\n",
    "        return torch.sigmoid(self.readout(hg)).view(-1)"
   ]
  },
  {
   "cell_type": "markdown",
   "id": "5af86715",
   "metadata": {},
   "source": [
    "## Training"
   ]
  },
  {
   "cell_type": "code",
   "execution_count": 15,
   "id": "2f450255",
   "metadata": {},
   "outputs": [],
   "source": [
    "from torch.optim import Adam\n",
    "from tqdm import tqdm"
   ]
  },
  {
   "cell_type": "code",
   "execution_count": 11,
   "id": "aed79f44",
   "metadata": {},
   "outputs": [
    {
     "name": "stderr",
     "output_type": "stream",
     "text": [
      "[13:27:36] WARNING: not removing hydrogen atom without neighbors\n",
      "[13:27:37] WARNING: not removing hydrogen atom without neighbors\n",
      "[13:27:37] WARNING: not removing hydrogen atom without neighbors\n",
      "[13:27:40] WARNING: not removing hydrogen atom without neighbors\n",
      "[13:27:40] WARNING: not removing hydrogen atom without neighbors\n",
      "[13:27:41] WARNING: not removing hydrogen atom without neighbors\n",
      "[13:27:42] WARNING: not removing hydrogen atom without neighbors\n",
      "[13:27:43] WARNING: not removing hydrogen atom without neighbors\n",
      "[13:27:46] WARNING: not removing hydrogen atom without neighbors\n",
      "[13:27:48] WARNING: not removing hydrogen atom without neighbors\n"
     ]
    },
    {
     "name": "stdout",
     "output_type": "stream",
     "text": [
      "Successfully processed 2036 molecules, skipped 14\n",
      "Dataset loaded with 2036 molecules\n"
     ]
    },
    {
     "name": "stderr",
     "output_type": "stream",
     "text": [
      "[13:27:55] UFFTYPER: Unrecognized charge state for atom: 16\n",
      "/Users/maxcui/Downloads/QVAE/qvae/lib/python3.11/site-packages/torch_geometric/data/in_memory_dataset.py:300: UserWarning: It is not recommended to directly access the internal storage format `data` of an 'InMemoryDataset'. If you are absolutely certain what you are doing, access the internal storage via `InMemoryDataset._data` instead to suppress this warning. Alternatively, you can access stacked individual attributes of every graph via `dataset.{attr_name}`.\n",
      "  warnings.warn(msg)\n"
     ]
    }
   ],
   "source": [
    "dataset = BBBPDataset(\"BBBP.csv\")\n",
    "print(\"Dataset loaded with {} molecules\".format(len(dataset)))"
   ]
  },
  {
   "cell_type": "code",
   "execution_count": 12,
   "id": "edc3ba21",
   "metadata": {},
   "outputs": [
    {
     "name": "stderr",
     "output_type": "stream",
     "text": [
      "/Users/maxcui/Downloads/QVAE/qvae/lib/python3.11/site-packages/torch_geometric/data/in_memory_dataset.py:300: UserWarning: It is not recommended to directly access the internal storage format `data` of an 'InMemoryDataset'. If you are absolutely certain what you are doing, access the internal storage via `InMemoryDataset._data` instead to suppress this warning. Alternatively, you can access stacked individual attributes of every graph via `dataset.{attr_name}`.\n",
      "  warnings.warn(msg)\n"
     ]
    }
   ],
   "source": [
    "train_ds, test_ds = train_test_split(dataset, test_size=0.2, random_state=67)\n",
    "loader_args = dict(batch_size=32, shuffle=True, num_workers=4)\n",
    "train_loader = DataLoader(train_ds, **loader_args)\n",
    "test_loader = DataLoader(test_ds, **loader_args)"
   ]
  },
  {
   "cell_type": "code",
   "execution_count": 26,
   "id": "d21d0f6c",
   "metadata": {},
   "outputs": [
    {
     "name": "stdout",
     "output_type": "stream",
     "text": [
      "Model initialized with node_dim=12, edge_dim=4\n"
     ]
    }
   ],
   "source": [
    "model = MPNN(\n",
    "    node_dim = dataset.num_node_features,\n",
    "    edge_dim = dataset.num_edge_features,\n",
    ").to(device)\n",
    "print(f\"Model initialized with node_dim={dataset.num_node_features}, edge_dim={dataset.num_edge_features}\")"
   ]
  },
  {
   "cell_type": "code",
   "execution_count": 27,
   "id": "c0176829",
   "metadata": {},
   "outputs": [],
   "source": [
    "optimizer = Adam(model.parameters(), lr=5e-4)\n",
    "criterion = nn.BCELoss()"
   ]
  },
  {
   "cell_type": "code",
   "execution_count": null,
   "id": "a2e99f77",
   "metadata": {},
   "outputs": [],
   "source": [
    "for epoch in range(1,41):\n",
    "    model.train()\n",
    "    total_loss = 0\n",
    "    for batch in tqdm(train_loader, desc=f\"Epoch {epoch}\", leave=False):\n",
    "        batch = batch.to(device)\n",
    "        optimizer.zero_grad()\n",
    "        pred = model(batch)\n",
    "        loss = criterion(pred, batch.y)\n",
    "        loss.backward()\n",
    "        optimizer.step()\n",
    "        total_loss += loss.item() * batch.num_graphs\n",
    "    print(f\"Epoch {epoch} - Loss: {total_loss / len(train_loader.dataset):.4f}\")"
   ]
  },
  {
   "cell_type": "code",
   "execution_count": 29,
   "id": "c6c8ae75",
   "metadata": {},
   "outputs": [
    {
     "name": "stdout",
     "output_type": "stream",
     "text": [
      "Test ROC-AUC: 0.9161\n"
     ]
    }
   ],
   "source": [
    "# Evaluate on test set\n",
    "model.eval()\n",
    "all_preds = []\n",
    "all_labels = []\n",
    "\n",
    "with torch.no_grad():\n",
    "    for batch in test_loader:\n",
    "        batch = batch.to(device)\n",
    "        pred = model(batch)\n",
    "        all_preds.extend(pred.cpu().numpy())\n",
    "        all_labels.extend(batch.y.cpu().numpy())\n",
    "\n",
    "test_auc = roc_auc_score(all_labels, all_preds)\n",
    "print(f\"Test ROC-AUC: {test_auc:.4f}\")"
   ]
  },
  {
   "cell_type": "code",
   "execution_count": 30,
   "id": "c25b532c",
   "metadata": {},
   "outputs": [
    {
     "name": "stdout",
     "output_type": "stream",
     "text": [
      "Model checkpoint saved to checkpoints/mpnn_bbbp.pt\n"
     ]
    },
    {
     "name": "stderr",
     "output_type": "stream",
     "text": [
      "/Users/maxcui/Downloads/QVAE/qvae/lib/python3.11/site-packages/torch_geometric/data/in_memory_dataset.py:300: UserWarning: It is not recommended to directly access the internal storage format `data` of an 'InMemoryDataset'. If you are absolutely certain what you are doing, access the internal storage via `InMemoryDataset._data` instead to suppress this warning. Alternatively, you can access stacked individual attributes of every graph via `dataset.{attr_name}`.\n",
      "  warnings.warn(msg)\n"
     ]
    }
   ],
   "source": [
    "# Save model checkpoint\n",
    "checkpoint_path = \"checkpoints/mpnn_bbbp.pt\"\n",
    "os.makedirs(\"checkpoints\", exist_ok=True)\n",
    "\n",
    "torch.save({\n",
    "    'model_state_dict': model.state_dict(),\n",
    "    'optimizer_state_dict': optimizer.state_dict(),\n",
    "    'node_dim': dataset.num_node_features,\n",
    "    'edge_dim': dataset.num_edge_features,\n",
    "}, checkpoint_path)\n",
    "\n",
    "print(f\"Model checkpoint saved to {checkpoint_path}\")\n"
   ]
  },
  {
   "cell_type": "markdown",
   "id": "094b4880",
   "metadata": {},
   "source": [
    "## Load the Pre-Trained Model"
   ]
  },
  {
   "cell_type": "code",
   "execution_count": 31,
   "id": "4b6c18c6",
   "metadata": {},
   "outputs": [],
   "source": [
    "# To load the checkpoint later:\n",
    "# checkpoint = torch.load(\"checkpoints/mpnn_bbbp.pt\")\n",
    "# model = MPNN(\n",
    "#     node_dim=checkpoint['node_dim'],\n",
    "#     edge_dim=checkpoint['edge_dim']\n",
    "# ).to(device)\n",
    "# model.load_state_dict(checkpoint['model_state_dict'])\n",
    "# optimizer.load_state_dict(checkpoint['optimizer_state_dict'])\n"
   ]
  }
 ],
 "metadata": {
  "kernelspec": {
   "display_name": "qvae",
   "language": "python",
   "name": "python3"
  },
  "language_info": {
   "codemirror_mode": {
    "name": "ipython",
    "version": 3
   },
   "file_extension": ".py",
   "mimetype": "text/x-python",
   "name": "python",
   "nbconvert_exporter": "python",
   "pygments_lexer": "ipython3",
   "version": "3.11.13"
  }
 },
 "nbformat": 4,
 "nbformat_minor": 5
}
